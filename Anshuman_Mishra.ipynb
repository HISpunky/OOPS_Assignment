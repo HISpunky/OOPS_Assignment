{
 "cells": [
  {
   "cell_type": "code",
   "execution_count": null,
   "metadata": {},
   "outputs": [],
   "source": [
    "\"\"\"\n",
    "1.Explain the importance of Functions\n",
    "->Following points highlight the importance of functions\n",
    "1>Functions increases the reusability of code\n",
    "2>Functions make the code less complex and more readable\n",
    "3>Functions enables multiple users to work on same code efficiently \n",
    "\"\"\""
   ]
  },
  {
   "cell_type": "code",
   "execution_count": 18,
   "metadata": {},
   "outputs": [
    {
     "name": "stdout",
     "output_type": "stream",
     "text": [
      "Hello Students\n"
     ]
    }
   ],
   "source": [
    "#2. Write a basic function to greet students\n",
    "def fun():\n",
    "    print(\"Hello Students\")\n",
    "fun()"
   ]
  },
  {
   "cell_type": "code",
   "execution_count": null,
   "metadata": {},
   "outputs": [],
   "source": [
    "\"\"\"\n",
    "3.What is the difference between print and return statements\n",
    "->Print statement is use to show an output to user it is not stored as memory.\n",
    "Print statement can not stop a function from further executing\n",
    "\n",
    "Return statement has capablity to store the output in memory of any variable\n",
    "return statement can stop a functions execution\n",
    "\"\"\""
   ]
  },
  {
   "cell_type": "code",
   "execution_count": 24,
   "metadata": {},
   "outputs": [
    {
     "name": "stdout",
     "output_type": "stream",
     "text": [
      "1 2 3 4 5 6 7 "
     ]
    },
    {
     "data": {
      "text/plain": [
       "{'a': 1, 'b': 2, 'c': 3, 'd': 4}"
      ]
     },
     "execution_count": 24,
     "metadata": {},
     "output_type": "execute_result"
    }
   ],
   "source": [
    "#4.What are *args and **kwargs\n",
    "\"\"\"args is used to input variable length arguments in a function while kwargs are used to input a series of key value pairs as arguments in a function\"\"\"\n",
    "def fun1(*args):\n",
    "    for i in args:\n",
    "        print(i,end = \" \")\n",
    "fun1(1,2,3,4,5,6,7)\n",
    "\"\"\"kwargs are used to input key value pairs in the function in form of a dictionary\"\"\"\n",
    "def fun2(**kwargs):\n",
    "    return kwargs\n",
    "fun2(a=1,b=2,c=3,d=4)"
   ]
  },
  {
   "cell_type": "code",
   "execution_count": 29,
   "metadata": {},
   "outputs": [
    {
     "name": "stdout",
     "output_type": "stream",
     "text": [
      "a\n",
      "n\n",
      "s\n",
      "h\n",
      "u\n",
      "m\n",
      "a\n",
      "n\n"
     ]
    }
   ],
   "source": [
    "#5.Explain the iterator function\n",
    "\"\"\"Iterator fucntion is a function used to make an iterator object over any iterable data structure we can use this object to interate throughout the iterable\"\"\"\n",
    "s = \"anshuman\"\n",
    "a = iter(s)\n",
    "print(next(a))\n",
    "print(next(a))\n",
    "print(next(a))\n",
    "print(next(a))\n",
    "print(next(a))\n",
    "print(next(a))\n",
    "print(next(a))\n",
    "print(next(a))\n"
   ]
  },
  {
   "cell_type": "code",
   "execution_count": 32,
   "metadata": {},
   "outputs": [
    {
     "name": "stdout",
     "output_type": "stream",
     "text": [
      "0\n",
      "1\n",
      "4\n",
      "9\n",
      "16\n",
      "25\n"
     ]
    }
   ],
   "source": [
    "#6.Write a code that generates the squares of numbers from 1 to n using a generator\n",
    "def fun(n):\n",
    "    for i in range(n+1):\n",
    "        yield i**2\n",
    "gen = fun(5)\n",
    "print(next(gen))\n",
    "print(next(gen))\n",
    "print(next(gen))\n",
    "print(next(gen))\n",
    "print(next(gen))\n",
    "print(next(gen))"
   ]
  },
  {
   "cell_type": "code",
   "execution_count": 51,
   "metadata": {},
   "outputs": [
    {
     "name": "stdout",
     "output_type": "stream",
     "text": [
      "0 1 2 3 4 5 6 7 8 9 11 22 33 44 55 66 77 88 99 101 111 121 131 141 151 161 171 181 191 202 "
     ]
    }
   ],
   "source": [
    "#7. Write a code that generates palindromic numbers up to n using a generator\n",
    "def fun(n):\n",
    "    for i in range(n+1):\n",
    "        s1 = str(i)\n",
    "        s2 = s1[::-1]\n",
    "        if(s1 == s2):\n",
    "            yield i\n",
    "gen = fun(10000000000)\n",
    "#Suppose we want first 30 palindromic numbers\n",
    "for i in range(30):\n",
    "    print(next(gen),end = \" \")\n",
    "\n"
   ]
  },
  {
   "cell_type": "code",
   "execution_count": 50,
   "metadata": {},
   "outputs": [
    {
     "name": "stdout",
     "output_type": "stream",
     "text": [
      "2 4 6 8 10 12 14 16 18 20 22 24 26 28 30 32 34 36 38 40 42 44 46 48 50 52 54 56 58 60 "
     ]
    }
   ],
   "source": [
    "#8. Write a code that generates even numbers from 2 to n using a generator\n",
    "def fun(n):\n",
    "    for i in range(2,n+1):\n",
    "        if(i%2==0):\n",
    "            yield i\n",
    "gen = fun(10000000000)\n",
    "#Suppose we want first 30 even numbers\n",
    "for i in range(30):\n",
    "    print(next(gen),end = \" \")"
   ]
  },
  {
   "cell_type": "code",
   "execution_count": 49,
   "metadata": {},
   "outputs": [
    {
     "name": "stdout",
     "output_type": "stream",
     "text": [
      "1 2 4 8 16 32 64 128 256 512 "
     ]
    }
   ],
   "source": [
    "#9. Write a code that generates powers of two up to n using a generator\n",
    "def fun(n):\n",
    "    for i in range(n+1):\n",
    "        yield 2**i\n",
    "gen = fun(100000)\n",
    "#Suppose we want first 10 powers of 2 numbers\n",
    "for i in range(10):\n",
    "    print(next(gen),end = \" \")"
   ]
  },
  {
   "cell_type": "code",
   "execution_count": 53,
   "metadata": {},
   "outputs": [
    {
     "name": "stdout",
     "output_type": "stream",
     "text": [
      "1 2 3 5 7 11 13 17 19 23 29 31 37 41 43 47 53 59 61 67 "
     ]
    }
   ],
   "source": [
    "#10.Write a code that generates prime numbers up to n using a generator\n",
    "def fun(n):\n",
    "    for i in range(1,n):\n",
    "        flag = True\n",
    "        for j in range(2,i):\n",
    "            if(i%j==0):\n",
    "                flag = False\n",
    "                break\n",
    "        if(flag == True):\n",
    "            yield i    \n",
    "            \n",
    "gen = fun(100000)\n",
    "#Suppose we want first 20 prime numbers\n",
    "for i in range(20):\n",
    "    print(next(gen),end = \" \")"
   ]
  },
  {
   "cell_type": "code",
   "execution_count": 1,
   "metadata": {},
   "outputs": [
    {
     "name": "stdout",
     "output_type": "stream",
     "text": [
      "5\n"
     ]
    }
   ],
   "source": [
    "#11.Write a code that uses a lambda function to calculate the sum of two numbers\n",
    "fun = lambda x,y:x+y\n",
    "print(fun(2,3))"
   ]
  },
  {
   "cell_type": "code",
   "execution_count": 3,
   "metadata": {},
   "outputs": [
    {
     "name": "stdout",
     "output_type": "stream",
     "text": [
      "9\n"
     ]
    }
   ],
   "source": [
    "#12.Write a code that uses a lambda function to calculate the square of a given number\n",
    "fun = lambda x:x**2\n",
    "print(fun(3))"
   ]
  },
  {
   "cell_type": "code",
   "execution_count": 5,
   "metadata": {},
   "outputs": [
    {
     "name": "stdout",
     "output_type": "stream",
     "text": [
      "Even\n"
     ]
    }
   ],
   "source": [
    "#13.Write a code that uses a lambda function to check whether a given number is even or odd\n",
    "fun = lambda x: \"Even\" if x%2==0 else \"Odd\"\n",
    "print(fun(2))"
   ]
  },
  {
   "cell_type": "code",
   "execution_count": 6,
   "metadata": {},
   "outputs": [
    {
     "name": "stdout",
     "output_type": "stream",
     "text": [
      "Hello Namaste\n"
     ]
    }
   ],
   "source": [
    "#15.Write a code that uses a lambda function to concatenate two strings\n",
    "fun = lambda x,y: x+\" \"+y\n",
    "print(fun(\"Hello\",\"Namaste\"))"
   ]
  },
  {
   "cell_type": "code",
   "execution_count": 10,
   "metadata": {},
   "outputs": [
    {
     "name": "stdout",
     "output_type": "stream",
     "text": [
      "9\n"
     ]
    }
   ],
   "source": [
    "#16.Write a code that uses a lambda function to find the maximum of three given numbers\n",
    "fun = lambda x,y,z: x if x>=y and x>=z else y if y>=x and y>=z else z\n",
    "print(fun(9,1,8))"
   ]
  },
  {
   "cell_type": "code",
   "execution_count": 6,
   "metadata": {},
   "outputs": [
    {
     "name": "stdout",
     "output_type": "stream",
     "text": [
      "[4, 16, 36, 64, 100]\n"
     ]
    }
   ],
   "source": [
    "#17.Write a code that generates the squares of even numbers from a given list\n",
    "l = [1,2,3,4,5,6,7,8,9,10]\n",
    "l_sq_even = list(map(lambda x:x**2,list(filter(lambda x:x%2 == 0,l))))\n",
    "print(l_sq_even)"
   ]
  },
  {
   "cell_type": "code",
   "execution_count": 7,
   "metadata": {},
   "outputs": [
    {
     "name": "stdout",
     "output_type": "stream",
     "text": [
      "216\n"
     ]
    }
   ],
   "source": [
    "#18.Write a code that calculates the product of positive numbers from a given list\n",
    "k = 1\n",
    "l = [-1,-4,1,4,6,-5,9,1]\n",
    "for i in list(filter(lambda x:x>0,l)):\n",
    "    k = k*i\n",
    "print(k)"
   ]
  },
  {
   "cell_type": "code",
   "execution_count": 8,
   "metadata": {},
   "outputs": [
    {
     "name": "stdout",
     "output_type": "stream",
     "text": [
      "[2, 2, 6, 4, 10, 6, 14, 8, 18, 10]\n"
     ]
    }
   ],
   "source": [
    "#19.Write a code that doubles the values of odd numbers from a given list\n",
    "l = [1,2,3,4,5,6,7,8,9,10]\n",
    "l_odd_double = list(map(lambda x:x if x%2==0 else x*2,l))\n",
    "print(l_odd_double)"
   ]
  },
  {
   "cell_type": "code",
   "execution_count": 10,
   "metadata": {},
   "outputs": [
    {
     "name": "stdout",
     "output_type": "stream",
     "text": [
      "36\n"
     ]
    }
   ],
   "source": [
    "#20.Write a code that calculates the sum of cubes of numbers from a given list\n",
    "l = [1,2,3]\n",
    "k = 0\n",
    "for i in list(map(lambda x:x**3,l)):\n",
    "    k = k + i\n",
    "print(k)"
   ]
  },
  {
   "cell_type": "code",
   "execution_count": 4,
   "metadata": {},
   "outputs": [
    {
     "name": "stdout",
     "output_type": "stream",
     "text": [
      "[1, 2, 3, 5, 41]\n"
     ]
    }
   ],
   "source": [
    "#21.Write a code that filters out prime numbers from a given list\n",
    "l = [1,2,3,4,5,6,8,9,10,41]\n",
    "def fun(n):\n",
    "    for i in range(2,n):\n",
    "        if n%i==0:\n",
    "            return -1\n",
    "\n",
    "list_prime = list(filter(lambda x:fun(x)!=-1,l))\n",
    "print(list_prime)"
   ]
  },
  {
   "cell_type": "code",
   "execution_count": 5,
   "metadata": {},
   "outputs": [
    {
     "name": "stdout",
     "output_type": "stream",
     "text": [
      "10\n"
     ]
    }
   ],
   "source": [
    "#22.Write a code that uses a lambda function to calculate the sum of two number\n",
    "fun = lambda x,y:x+y\n",
    "print(fun(4,6))"
   ]
  },
  {
   "cell_type": "code",
   "execution_count": 7,
   "metadata": {},
   "outputs": [
    {
     "name": "stdout",
     "output_type": "stream",
     "text": [
      "9\n"
     ]
    }
   ],
   "source": [
    "#23.Write a code that uses a lambda function to calculate the square of a given number\n",
    "fun = lambda x:x**2\n",
    "print(fun(3))"
   ]
  },
  {
   "cell_type": "code",
   "execution_count": 8,
   "metadata": {},
   "outputs": [
    {
     "name": "stdout",
     "output_type": "stream",
     "text": [
      "ODD\n"
     ]
    }
   ],
   "source": [
    "#24.Write a code that uses a lambda function to check whether a given number is even or odd\n",
    "fun = lambda x:\"EVEN\" if x%2==0 else \"ODD\"\n",
    "print(fun(3))"
   ]
  },
  {
   "cell_type": "code",
   "execution_count": 9,
   "metadata": {},
   "outputs": [
    {
     "name": "stdout",
     "output_type": "stream",
     "text": [
      "hi anshuman\n"
     ]
    }
   ],
   "source": [
    "#25.Write a code that uses a lambda function to concatenate two strings\n",
    "fun = lambda x,y:x+\" \"+y\n",
    "print(fun(\"hi\",\"anshuman\"))"
   ]
  },
  {
   "cell_type": "code",
   "execution_count": null,
   "metadata": {},
   "outputs": [],
   "source": [
    "#26.Write a code that uses a lambda function to find the maximum of three given numbers\n",
    "fun = lambda x,y,z: x if x>=y and x>=z else y if y>=x and y>=z else z\n",
    "print(fun(9,1,8))"
   ]
  },
  {
   "cell_type": "code",
   "execution_count": null,
   "metadata": {},
   "outputs": [],
   "source": [
    "#27.What is encapsulation in OOP?\n",
    "\"\"\"\n",
    "In OOPS cocept we group attributes and methods common to a specific category in a template called class which enables us to create our own datatype and associated functions\n",
    "and use it in various forms this process includes hiding some ammount of data from user and making only useful methods in a class accessible to user this process is called\n",
    "encapsulation\n",
    "\"\"\""
   ]
  },
  {
   "cell_type": "code",
   "execution_count": null,
   "metadata": {},
   "outputs": [],
   "source": [
    "#28.Explain the use of access modifiers in Python classes\n",
    "\"\"\"\n",
    "In OOPS we use encapsulation to make only useful methods accessible to user this process invlolves access modifiers there are three type of data in a class:-\n",
    "private->This data cannot be accessed externally and can only be accessed using special functions called getters and setters\n",
    "protected->This type of data can be accessed by child class but cannot be accessed by any other function or class externally\n",
    "public->This type of data can directly be accessed and modified my any function or class externally \n",
    "\"\"\"\n"
   ]
  },
  {
   "cell_type": "code",
   "execution_count": null,
   "metadata": {},
   "outputs": [],
   "source": [
    "#29.What is inheritance in OOP?\n",
    "\"\"\"\n",
    "In OOPS we use class to categorise data and methods related to that data in this process some class require data from other broad class this can be achived by inheritance\n",
    "in this the child class inherits all the property of parents class and also ovverides same type of data\n",
    "\"\"\""
   ]
  },
  {
   "cell_type": "code",
   "execution_count": null,
   "metadata": {},
   "outputs": [],
   "source": [
    "#30.Define polymorphism in OOP\n",
    "\"\"\"\n",
    "Polymorphism means many forms in OOPS we can achieve it by:-\n",
    "Method Overloading->The method which is delared most recently is considered for execution in python\n",
    "Method Overriding->The method is overrided by new data described in inherited class\n",
    "\"\"\""
   ]
  },
  {
   "cell_type": "code",
   "execution_count": null,
   "metadata": {},
   "outputs": [],
   "source": [
    "#31.Explain method overriding in Python\n",
    "\"\"\"\n",
    "In Python method overriding is an example of polymorphism in which a child class when inherits properties of parent class in inheritance it can override the inherited methods\n",
    "with its own discription of the method.\n",
    "\"\"\""
   ]
  },
  {
   "cell_type": "code",
   "execution_count": 11,
   "metadata": {},
   "outputs": [
    {
     "name": "stdout",
     "output_type": "stream",
     "text": [
      "Woof!\n"
     ]
    }
   ],
   "source": [
    "#32. Define a parent class Animal with a method make_sound that prints \"Generic animal sound\". Create a child class Dog inheriting from Animal with a method make_sound that prints \"Woof!\"\n",
    "\n",
    "class Animal:\n",
    "    def make_sound(self):\n",
    "        print(\"Generic animal sound\")\n",
    "    \n",
    "class Dog(Animal):\n",
    "    def make_sound(self):\n",
    "        print(\"Woof!\")\n",
    "        \n",
    "dog = Dog()\n",
    "dog.make_sound()"
   ]
  },
  {
   "cell_type": "code",
   "execution_count": 13,
   "metadata": {},
   "outputs": [
    {
     "name": "stdout",
     "output_type": "stream",
     "text": [
      "Dog runs\n"
     ]
    }
   ],
   "source": [
    "#33.Define a method move in the Animal class that prints \"Animal moves\". Override the move method in the Dog class to print \"Dog runs\".\n",
    "\n",
    "class Animal:\n",
    "    def move(self):\n",
    "        print(\"Animal moves\")\n",
    "    \n",
    "class Dog(Animal):\n",
    "    def move(self):\n",
    "        print(\"Dog runs\")\n",
    "        \n",
    "dog = Dog()\n",
    "dog.move()"
   ]
  },
  {
   "cell_type": "code",
   "execution_count": 15,
   "metadata": {},
   "outputs": [
    {
     "name": "stdout",
     "output_type": "stream",
     "text": [
      "Giving birth to pups\n"
     ]
    }
   ],
   "source": [
    "#34. Create a class Mammal with a method reproduce that prints \"Giving birth to live young.\" Create a class DogMammal inheriting from both Dog and Mammal\n",
    "\n",
    "class Mammal:\n",
    "    def reproduce(self):\n",
    "        print(\"Giving birth to live young\")\n",
    "        \n",
    "class Dog:\n",
    "    def reproduce(self):\n",
    "        print(\"Giving birth to pups\")\n",
    "        \n",
    "class DogMammal(Dog,Mammal):\n",
    "    pass\n",
    "\n",
    "d = DogMammal()\n",
    "d.reproduce()"
   ]
  },
  {
   "cell_type": "code",
   "execution_count": 16,
   "metadata": {},
   "outputs": [
    {
     "name": "stdout",
     "output_type": "stream",
     "text": [
      "Bark!\n"
     ]
    }
   ],
   "source": [
    "#35. Create a class GermanShepherd inheriting from Dog and override the make_sound method to print \"Bark!\".\n",
    "\n",
    "class Animal:\n",
    "    def make_sound(self):\n",
    "        print(\"Generic animal sound\")\n",
    "    \n",
    "class Dog(Animal):\n",
    "    def make_sound(self):\n",
    "        print(\"Woof!\")\n",
    "    \n",
    "class GermanShepherd(Dog):\n",
    "    def make_sound(self):\n",
    "        print(\"Bark!\")\n",
    "    \n",
    "dog = GermanShepherd()\n",
    "dog.make_sound()"
   ]
  },
  {
   "cell_type": "code",
   "execution_count": 18,
   "metadata": {},
   "outputs": [
    {
     "name": "stdout",
     "output_type": "stream",
     "text": [
      "Panthera\n",
      "Tigris\n",
      "\n",
      "Canis\n",
      "lupus\n",
      "familiaris\n"
     ]
    }
   ],
   "source": [
    "#36.Define constructors in both the Animal and Dog classes with different initialization parameters\n",
    "\n",
    "class Animal:\n",
    "    def __init__(self,genus,species):\n",
    "        self.genus = genus\n",
    "        self.species = species\n",
    "        \n",
    "    \n",
    "class Dog(Animal):\n",
    "    def __init__(self,species,family):\n",
    "        self.genus = \"Canis\"\n",
    "        self.species = species\n",
    "        self.family = family\n",
    "\n",
    "tiger = Animal(\"Panthera\",\"Tigris\")\n",
    "germanshepherd = Dog( \"lupus\", \"familiaris\")\n",
    "\n",
    "print(tiger.genus)\n",
    "print(tiger.species)\n",
    "print()\n",
    "print(germanshepherd.genus)\n",
    "print(germanshepherd.species)\n",
    "print(germanshepherd.family)\n"
   ]
  },
  {
   "cell_type": "code",
   "execution_count": null,
   "metadata": {},
   "outputs": [],
   "source": [
    "#37.What is abstraction in Python? How is it implemented\n",
    "\"\"\" \n",
    "In OOPS abstraction is a phenomenone used to enable hiding irrelevant data from the user and making only relavent parts accesible to the user this prevents user from making\n",
    "changes which may cause faults in basic implementation process of a class Example Implementung Stacks data structure from othe data structures.\n",
    "\"\"\""
   ]
  },
  {
   "cell_type": "code",
   "execution_count": null,
   "metadata": {},
   "outputs": [],
   "source": [
    "#38.Explain the importance of abstraction in object-oriented programming\n",
    "\"\"\"\n",
    "In OOP abstraction is a phenomenone used to hide irrelevant data from user it is very important in programming as almost all the default classes and data structures are implemented \n",
    "using absctraction hence the implementation details are hidden from the user while user is abble to access modifiy and use the class otherwise the very functionality\n",
    "of a class is liable to get changed if any fault occurs from the user side which is prevented by abstraction.\n",
    "\"\"\""
   ]
  },
  {
   "cell_type": "code",
   "execution_count": null,
   "metadata": {},
   "outputs": [],
   "source": [
    "#39.How are abstract methods different from regular methods in Python\n",
    "\"\"\"\n",
    "Abstract methods are used where methods are not defined in parent class while they are defined in child class hence when abstract methods are called they act accrding to \n",
    "the class they are defined in. While normal methods are defined in the class itself.\n",
    "\"\"\""
   ]
  },
  {
   "cell_type": "code",
   "execution_count": null,
   "metadata": {},
   "outputs": [],
   "source": [
    "#40.How can you achieve abstraction using interfaces in Python\n",
    "\"\"\"\n",
    "To achieve abstraction in python we define a method using keyword \"@abc.abstractmethod\" for which we inport a class called abc which indicates that the method is to be used as abstract method in inherited classes\n",
    "then we can define the method with same name in the inherited classes using their own properties.\n",
    "\"\"\""
   ]
  },
  {
   "cell_type": "code",
   "execution_count": 2,
   "metadata": {},
   "outputs": [
    {
     "name": "stdout",
     "output_type": "stream",
     "text": [
      "Black\n",
      "woof!\n",
      "90 KG\n",
      "\n",
      "White\n",
      "Meow!\n",
      "50 KG\n"
     ]
    }
   ],
   "source": [
    "#41.Can you provide an example of how abstraction can be utilized to create a common interface for a group of related classes in Python\n",
    "\n",
    "import abc\n",
    "class Animal:\n",
    "    @abc.abstractmethod\n",
    "    def sound(self):\n",
    "        pass\n",
    "    @abc.abstractmethod\n",
    "    def color(self):\n",
    "        pass\n",
    "    @abc.abstractmethod\n",
    "    def weight(self):\n",
    "        pass\n",
    "    \n",
    "class Dog(Animal):\n",
    "    \n",
    "    def __init__(self,clr,wt):\n",
    "        self.__clr = clr\n",
    "        self.__wt = wt\n",
    "    \n",
    "    def sound(self):\n",
    "        print(\"woof!\")\n",
    "    \n",
    "    def color(self):\n",
    "        print(self.__clr)\n",
    "   \n",
    "    def weight(self):\n",
    "        print(self.__wt)\n",
    "        \n",
    "class Cat(Animal):\n",
    "    \n",
    "    def __init__(self,clr,wt):\n",
    "        self.__clr = clr\n",
    "        self.__wt = wt\n",
    "    \n",
    "    def sound(self):\n",
    "        print(\"Meow!\")\n",
    "    \n",
    "    def color(self):\n",
    "        print(self.__clr)\n",
    "   \n",
    "    def weight(self):\n",
    "        print(self.__wt)\n",
    "        \n",
    "d = Dog(\"Black\",\"90 KG\")\n",
    "c = Cat(\"White\",\"50 KG\")\n",
    "d.color()\n",
    "d.sound()\n",
    "d.weight()\n",
    "print()\n",
    "c.color()\n",
    "c.sound()\n",
    "c.weight()"
   ]
  },
  {
   "cell_type": "code",
   "execution_count": null,
   "metadata": {},
   "outputs": [],
   "source": [
    "#42.How does Python achieve polymorphism through method overriding\n",
    "\"\"\"\n",
    "To achieve polymorphism we have to define a method in the parent class then we have to make a child class giving instance to parent class then define the same function with\n",
    "in child class it then when we execute the function with instance of child class, The child class version of the the method will be executed. \n",
    "\"\"\""
   ]
  },
  {
   "cell_type": "code",
   "execution_count": 1,
   "metadata": {},
   "outputs": [
    {
     "name": "stdout",
     "output_type": "stream",
     "text": [
      "Red\n"
     ]
    }
   ],
   "source": [
    "#43.Define a base class with a method and a subclass that overrides the method\n",
    "class Vehicle:\n",
    "    def __init__(self,company,model):\n",
    "        self.company = company\n",
    "        self.model = model\n",
    "    \n",
    "    def getCompany(self):\n",
    "        print(self.company)\n",
    "        \n",
    "    def getCompany(self):\n",
    "        print(self.model)\n",
    "        \n",
    "    def getColor(self):\n",
    "        print(\"color\")\n",
    "        \n",
    "class Car(Vehicle):\n",
    "    def __init__(self,company,model):\n",
    "        self.company = company\n",
    "        self.model = model\n",
    "    \n",
    "    def getCompany(self):\n",
    "        print(self.company)\n",
    "        \n",
    "    def getCompany(self):\n",
    "        print(self.model)\n",
    "        \n",
    "    def getColor(self):\n",
    "        print(\"Red\") \n",
    "        \n",
    "car = Car(\"Suzuki\",\"Grand Vittara\")\n",
    "car.getColor()"
   ]
  },
  {
   "cell_type": "code",
   "execution_count": 3,
   "metadata": {},
   "outputs": [
    {
     "name": "stdout",
     "output_type": "stream",
     "text": [
      "This is class A\n",
      "This is class B\n",
      "This is class C\n"
     ]
    }
   ],
   "source": [
    "#44.Define a base class and multiple subclasses with overridden methods\n",
    "\n",
    "class A:\n",
    "    def fun(self):\n",
    "        print(\"This is class A\")\n",
    "        \n",
    "class B(A):\n",
    "    def fun(self):\n",
    "        print(\"This is class B\")\n",
    "        \n",
    "class C(A):\n",
    "    def fun(self):\n",
    "        print(\"This is class C\")\n",
    "        \n",
    "a = A()\n",
    "b = B()\n",
    "c = C()\n",
    "        \n",
    "a.fun()\n",
    "b.fun()\n",
    "c.fun()"
   ]
  },
  {
   "cell_type": "code",
   "execution_count": null,
   "metadata": {},
   "outputs": [],
   "source": [
    "#45.How does polymorphism improve code readability and reusability.\n",
    "\"\"\"\n",
    "Polymorphism enables using similar tyoe of methods occuring in similar classes(Inherited classes) differently with different characteristics Hence we need not to consider\n",
    "making entire structure again when making similar classes(Inherited classes) Hence it improoves reusability of code.\n",
    "In overloaded or overrided functions similar method refer to different meanings as in function overloading the latest declared method is the real instance to the method while \n",
    "in method overriding the instance to the method is read considering the instace to class which is being considered Hence Polymorphism imrpooves code readibility. \n",
    "\"\"\""
   ]
  },
  {
   "cell_type": "code",
   "execution_count": 4,
   "metadata": {},
   "outputs": [
    {
     "name": "stdout",
     "output_type": "stream",
     "text": [
      "Woof!\n",
      "Meow!\n"
     ]
    }
   ],
   "source": [
    "#46.Describe how Python supports polymorphism with duck typing\n",
    "\"\"\"\n",
    "Duck Typing enables a single method refer to multiple classes and hence improoves reusability of code\n",
    "\"\"\"\n",
    "class Dog:\n",
    "    def sd(self):\n",
    "        return \"Woof!\"\n",
    "\n",
    "class Cat:\n",
    "    def sd(self):\n",
    "        return \"Meow!\"\n",
    "\n",
    "def sound(animal):\n",
    "    return animal.sd()\n",
    "\n",
    "dog = Dog()\n",
    "cat = Cat()\n",
    "\n",
    "print(sound(dog))  \n",
    "print(sound(cat))  "
   ]
  },
  {
   "cell_type": "code",
   "execution_count": 5,
   "metadata": {},
   "outputs": [
    {
     "name": "stdout",
     "output_type": "stream",
     "text": [
      "1\n",
      "5\n"
     ]
    }
   ],
   "source": [
    "#47.How do you achieve encapsulation in Python\n",
    "\"\"\"\n",
    "Encapsulation siimply means bundiling similar type of data(methods and attributes) in a unit called class this enables user to access similar type of data corresponding\n",
    "to a specific template and dicipline which improoves codes reusability, readibility and makes the code less complex. \n",
    "\"\"\"\n",
    "class A:\n",
    "    def __init__(self,a,b):\n",
    "        self.a = a #Public\n",
    "        self.b = b #Public\n",
    "\n",
    "a = A(1,2)\n",
    "print(a.a)\n",
    "a.a = 5\n",
    "print(a.a)"
   ]
  },
  {
   "cell_type": "code",
   "execution_count": 6,
   "metadata": {},
   "outputs": [
    {
     "name": "stdout",
     "output_type": "stream",
     "text": [
      "1\n",
      "2\n",
      "2\n"
     ]
    }
   ],
   "source": [
    "#48.Can encapsulation be bypassed in Python? If so, how\n",
    "#In python some special syntax allows bypassing encapsulaion\n",
    "class B:\n",
    "    def __init__(self,a,b):\n",
    "        self.a = a #Public\n",
    "        self.__b = b #Private Member\n",
    "    def getb(self):\n",
    "        print(self.__b)\n",
    "\n",
    "b = B(1,2)\n",
    "print(b.a)\n",
    "# print(b.__b) #error as private member->Prevented by encapsulation\n",
    "b.getb() #Using public function to access it\n",
    "\n",
    "\"\"\"Syntax for bypasing encapsulation\"\"\"\n",
    "print(b._B__b) # user only know object b not class B and variable b"
   ]
  },
  {
   "cell_type": "code",
   "execution_count": 8,
   "metadata": {},
   "outputs": [
    {
     "name": "stdout",
     "output_type": "stream",
     "text": [
      "100000\n",
      "50000\n"
     ]
    }
   ],
   "source": [
    "#49.Implement a class BankAccount with a private balance attribute. Include methods to deposit, withdraw, and check the balance\n",
    "\n",
    "class BankAccount:\n",
    "    def __init__(self):\n",
    "        self.__balance = 0\n",
    "        \n",
    "    def deposit(self,ammount):\n",
    "        self.__balance = self.__balance + ammount\n",
    "        \n",
    "    def withdraw(self,ammount):\n",
    "        if(ammount>self.__balance):\n",
    "            print(\"You Dont have enough Money\")\n",
    "        else:\n",
    "            self.__balance = self.__balance - ammount\n",
    "    \n",
    "    def check(self):\n",
    "        print(self.__balance)\n",
    "        \n",
    "acc1 = BankAccount()\n",
    "acc1.deposit(100000)\n",
    "acc1.check()\n",
    "acc1.withdraw(50000)\n",
    "acc1.check()"
   ]
  },
  {
   "cell_type": "code",
   "execution_count": 9,
   "metadata": {},
   "outputs": [
    {
     "name": "stdout",
     "output_type": "stream",
     "text": [
      "Email has not be set yet\n",
      "Invalid Domain\n",
      "Email has been updated succesfully\n",
      "anshuman@gmail.com\n"
     ]
    }
   ],
   "source": [
    "#50.Develop a Person class with private attributes name and email, and methods to set and get the email\n",
    "\n",
    "class Person:\n",
    "    \n",
    "    def __init__(self,name):\n",
    "        self.__name = name\n",
    "        self.__email = \"\"\n",
    "    \n",
    "    def getMail(self):\n",
    "        if(self.__email == \"\"):\n",
    "            print(\"Email has not be set yet\")\n",
    "        else:\n",
    "            print(self.__email)\n",
    "    \n",
    "    def setMail(self,mail):\n",
    "        if \"@gmail.com\" in mail:\n",
    "            self.__email = mail\n",
    "            print(\"Email has been updated succesfully\")\n",
    "        else:\n",
    "            print(\"Invalid Domain\")\n",
    "        \n",
    "p1 = Person(\"Anshuman\")\n",
    "p1.getMail()\n",
    "p1.setMail(\"anshuman\")\n",
    "p1.setMail(\"anshuman@gmail.com\")\n",
    "p1.getMail()\n"
   ]
  },
  {
   "cell_type": "code",
   "execution_count": null,
   "metadata": {},
   "outputs": [],
   "source": [
    "#51.Why is encapsulation considered a pillar of object-oriented programming (OOP)?\n",
    "\"\"\"\n",
    "Encapsulation is considered as a pillar object of OOP as encapsulation is a process of grouping similar attributes and methods together in a single unit called class.\n",
    "without grouping similar data together other features of OOPS such as  inheritance and polymorphism is impossible to achieve also without encapsulation modern day conecpt of\n",
    "programming where their are inbuilt functions and methods is almost impossible to achieve.\n",
    "\"\"\""
   ]
  },
  {
   "cell_type": "code",
   "execution_count": 31,
   "metadata": {},
   "outputs": [
    {
     "name": "stdout",
     "output_type": "stream",
     "text": [
      "pre\n",
      "Function Executed\n",
      "post\n"
     ]
    }
   ],
   "source": [
    "#52.Create a decorator in Python that adds functionality to a simple function by printing a message before and after the function execution\n",
    "\n",
    "def decorater(func):\n",
    "    def wrapper():\n",
    "        print(\"pre\")\n",
    "        func()\n",
    "        print(\"post\")\n",
    "    return wrapper\n",
    "\n",
    "@decorater\n",
    "def fun():\n",
    "    print(\"Function Executed\")\n",
    "    \n",
    "fun()\n"
   ]
  },
  {
   "cell_type": "code",
   "execution_count": 32,
   "metadata": {},
   "outputs": [
    {
     "name": "stdout",
     "output_type": "stream",
     "text": [
      "pre\n",
      "Message\n",
      "Function Executed\n",
      "post\n"
     ]
    }
   ],
   "source": [
    "#53.Modify the decorator to accept arguments and print the function name along with the message\n",
    "\n",
    "def decorater(arg):\n",
    "    def wrapper(func):\n",
    "        print(\"pre\")\n",
    "        print(arg)\n",
    "        func()\n",
    "        print(\"post\")\n",
    "    return wrapper\n",
    "\n",
    "@decorater(arg = \"Message\")\n",
    "def fun():\n",
    "    print(\"Function Executed\")\n"
   ]
  },
  {
   "cell_type": "code",
   "execution_count": 38,
   "metadata": {},
   "outputs": [
    {
     "name": "stdout",
     "output_type": "stream",
     "text": [
      "pre1\n",
      "pre2\n",
      "Function Executed\n",
      "post2\n",
      "post1\n"
     ]
    }
   ],
   "source": [
    "#54.Create two decorators, and apply them to a single function. Ensure that they execute in the order they are applied\n",
    "\n",
    "def decorater1(func):\n",
    "    def wrapper1():\n",
    "        print(\"pre1\")\n",
    "        func()\n",
    "        print(\"post1\")\n",
    "    return wrapper1\n",
    "\n",
    "def decorater2(func):\n",
    "    def wrapper2():\n",
    "        print(\"pre2\")\n",
    "        func()\n",
    "        print(\"post2\")\n",
    "    return wrapper2\n",
    "\n",
    "@decorater1\n",
    "@decorater2\n",
    "def fun():\n",
    "    print(\"Function Executed\")\n",
    "    \n",
    "fun()"
   ]
  },
  {
   "cell_type": "code",
   "execution_count": 39,
   "metadata": {},
   "outputs": [
    {
     "name": "stdout",
     "output_type": "stream",
     "text": [
      "pre\n",
      "This is functional argument\n",
      "Function Executed\n",
      "post\n"
     ]
    }
   ],
   "source": [
    "#55.Modify the decorator to accept and pass function arguments to the wrapped function\n",
    "\n",
    "def decorater(fun):\n",
    "    def wrapper(func):\n",
    "        print(\"pre\")\n",
    "        fun()\n",
    "        func()\n",
    "        print(\"post\")\n",
    "    return wrapper\n",
    "\n",
    "def fu():\n",
    "    print(\"This is functional argument\")\n",
    "@decorater(fu)\n",
    "def fun():\n",
    "    print(\"Function Executed\")"
   ]
  },
  {
   "cell_type": "code",
   "execution_count": 40,
   "metadata": {},
   "outputs": [
    {
     "name": "stdout",
     "output_type": "stream",
     "text": [
      "73\n"
     ]
    }
   ],
   "source": [
    "#56.Create a decorator that preserves the metadata of the original function\n",
    "def decorater(fun):\n",
    "    def wrapper(*args,**kwargs):\n",
    "        args = [int(x) for x in args]\n",
    "        kwargs = dict((k, int(v)) for k, v in kwargs.items())\n",
    "        return fun(*args, **kwargs)\n",
    "    return wrapper\n",
    "\n",
    "@decorater\n",
    "def fun(x,y,z = 10):\n",
    "    print(x+y+z)\n",
    "    \n",
    "fun('8',\"55\")\n"
   ]
  },
  {
   "cell_type": "code",
   "execution_count": 41,
   "metadata": {},
   "outputs": [
    {
     "data": {
      "text/plain": [
       "8"
      ]
     },
     "execution_count": 41,
     "metadata": {},
     "output_type": "execute_result"
    }
   ],
   "source": [
    "#57.Create a Python class `Calculator` with a static method `add` that takes in two numbers and returns their sum\n",
    "\n",
    "class Calculator:\n",
    "    @staticmethod\n",
    "    def add(x,y):\n",
    "        return x+y\n",
    "    \n",
    "Calculator.add(5,3)"
   ]
  },
  {
   "cell_type": "code",
   "execution_count": 43,
   "metadata": {},
   "outputs": [
    {
     "name": "stdout",
     "output_type": "stream",
     "text": [
      "3\n"
     ]
    }
   ],
   "source": [
    "#58. Create a Python class `Employee` with a class `method get_employee_count` that returns the total number of employees created\n",
    "\n",
    "class Employee:\n",
    "    employee_count = 0\n",
    "    \n",
    "    def __init__(self,name):\n",
    "        self.name = name\n",
    "        Employee.employee_count = Employee.employee_count + 1\n",
    "        \n",
    "    @classmethod   \n",
    "    def get_employee_count(cls):\n",
    "        print(cls.employee_count)\n",
    "        \n",
    "\n",
    "e1 = Employee(\"Anshuman\")\n",
    "e2 = Employee(\"Anjay\")\n",
    "e3 = Employee(\"Shourya\")\n",
    "Employee.get_employee_count()"
   ]
  },
  {
   "cell_type": "code",
   "execution_count": 45,
   "metadata": {},
   "outputs": [
    {
     "name": "stdout",
     "output_type": "stream",
     "text": [
      "dcba\n"
     ]
    }
   ],
   "source": [
    "#59. Create a Python class `StringFormatter` with a static method `reverse_string` that takes a string as input and returns its reverse\n",
    "\n",
    "class StringFormatter:\n",
    "    \n",
    "    @staticmethod\n",
    "    def rev_string(s):\n",
    "        return s[::-1]\n",
    "    \n",
    "print(StringFormatter.rev_string(\"abcd\"))"
   ]
  },
  {
   "cell_type": "code",
   "execution_count": 55,
   "metadata": {},
   "outputs": [
    {
     "name": "stdout",
     "output_type": "stream",
     "text": [
      "78.5\n"
     ]
    }
   ],
   "source": [
    "#60.Create a Python class `Circle` with a class method `calculate_area` that calculates the area of a circle given its radius\n",
    "\n",
    "class Circle:\n",
    "    radius = 0\n",
    "    @classmethod\n",
    "    def setRadi(cls,val):\n",
    "        cls.radius = val\n",
    "    @classmethod\n",
    "    def calculate_area(cls):\n",
    "        return (3.14*(cls.radius**2))\n",
    "    \n",
    "Circle.setRadi(5)\n",
    "print(Circle.calculate_area())\n",
    "    "
   ]
  },
  {
   "cell_type": "code",
   "execution_count": 56,
   "metadata": {},
   "outputs": [
    {
     "name": "stdout",
     "output_type": "stream",
     "text": [
      "122.0\n"
     ]
    }
   ],
   "source": [
    "#61.Create a Python class `TemperatureConverter` with a static method `celsius_to_fahrenheit` that converts Celsius to Fahrenheit\n",
    "\n",
    "class TemperatureConverter:\n",
    "    \n",
    "    @staticmethod\n",
    "    def celsius_to_fahrenheit(c):\n",
    "        return ((9/5)*c)+32\n",
    "    \n",
    "print(TemperatureConverter.celsius_to_fahrenheit(50))"
   ]
  },
  {
   "cell_type": "code",
   "execution_count": 60,
   "metadata": {},
   "outputs": [
    {
     "name": "stdout",
     "output_type": "stream",
     "text": [
      "This is string return type for the object created while constructer is called\n"
     ]
    }
   ],
   "source": [
    "#62.What is the purpose of the __str__() method in Python classes? Provide an example\n",
    "\"\"\"It is a dunder method which overrides object created while calling a constructor\"\"\"\n",
    "\n",
    "class A:\n",
    "    def __init__(self,a):\n",
    "        self.a = a\n",
    "    \n",
    "    def __str__(self):\n",
    "        return \"This is string return type for the object created while constructer is called\"\n",
    "    \n",
    "print(A(3))"
   ]
  },
  {
   "cell_type": "code",
   "execution_count": 62,
   "metadata": {},
   "outputs": [
    {
     "name": "stdout",
     "output_type": "stream",
     "text": [
      "5\n",
      "7\n"
     ]
    }
   ],
   "source": [
    "#63.How does the __len__() method work in Python? Provide an example\n",
    "\"\"\"For any object created in python __len__() method provides length of the data stored\"\"\"\n",
    "a = \"namaste\"\n",
    "b = [1,2,3,4,5]\n",
    "print(b.__len__())\n",
    "print(a.__len__())"
   ]
  },
  {
   "cell_type": "code",
   "execution_count": 63,
   "metadata": {},
   "outputs": [
    {
     "name": "stdout",
     "output_type": "stream",
     "text": [
      "(4,6)\n"
     ]
    }
   ],
   "source": [
    "#64.Explain the usage of the __add__() method in Python classes. Provide an example\n",
    "\"\"\"In python __add__() is a special type of dunder method used to add two objects together\"\"\"\n",
    "class D:\n",
    "    def __init__(self,x,y):\n",
    "        self.x = x\n",
    "        self.y = y\n",
    "    def __add__(self,k):\n",
    "        return (f\"({self.x+k.x},{self.y+k.y})\")\n",
    "    \n",
    "p1 = D(1,2)\n",
    "p2 = D(3,4)\n",
    "print(p1.__add__(p2))"
   ]
  },
  {
   "cell_type": "code",
   "execution_count": 77,
   "metadata": {},
   "outputs": [
    {
     "name": "stdout",
     "output_type": "stream",
     "text": [
      "<class 'int'>\n"
     ]
    }
   ],
   "source": [
    "#65.What is the purpose of the  __getitem__()method in Python? Provide an example\n",
    "\"\"\"It can be used to obtain type or any specific operation on any item corresponding to a class\"\"\"\n",
    "class A:\n",
    "    def __getitem__(self, items): \n",
    "        return type(items)\n",
    "        \n",
    "a = A()\n",
    "print(a[2])"
   ]
  },
  {
   "cell_type": "code",
   "execution_count": 83,
   "metadata": {},
   "outputs": [
    {
     "name": "stdout",
     "output_type": "stream",
     "text": [
      "1\n",
      "4\n",
      "9\n",
      "16\n"
     ]
    }
   ],
   "source": [
    "#66. Explain the usage of the __iter__() and __next__() methods in Python. Provide an example using iterators\n",
    "\"\"\"\n",
    "The __iter__() method returns an iterator object. This is required in order to use containers and iterators with the for and in statements.\n",
    "The __next__() method returns the sequencetial next item. \n",
    "\"\"\"\n",
    "class A:\n",
    "    def __init__(self):\n",
    "        self.curr = 0\n",
    "    def __iter__(self):\n",
    "        return self\n",
    "    def __next__(self):\n",
    "        self.curr = self.curr+1\n",
    "        return self.curr**2\n",
    "    \n",
    "a = A()\n",
    "\n",
    "print(next(a))\n",
    "print(next(a))\n",
    "print(next(a))\n",
    "print(next(a))\n"
   ]
  },
  {
   "cell_type": "code",
   "execution_count": 84,
   "metadata": {},
   "outputs": [
    {
     "name": "stdout",
     "output_type": "stream",
     "text": [
      "5\n"
     ]
    }
   ],
   "source": [
    "#67. What is the purpose of a getter method in Python? Provide an example demonstrating the use of a getter method using property decorators\n",
    "\"\"\"Getter methods are used to obtain value stored in an attribute if it is decorated with property decorators they can be called as attributes\"\"\"\n",
    "class A:\n",
    "    def __init__(self,x):\n",
    "        self.__x = x\n",
    "    \n",
    "    @property\n",
    "    def obj(self): #getter\n",
    "        print(self.__x)\n",
    "        \n",
    "a = A(5)\n",
    "a.obj"
   ]
  },
  {
   "cell_type": "code",
   "execution_count": 85,
   "metadata": {},
   "outputs": [
    {
     "name": "stdout",
     "output_type": "stream",
     "text": [
      "5\n",
      "10\n"
     ]
    }
   ],
   "source": [
    "#68.Explain the role of setter methods in Python. Demonstrate how to use a setter method to modify a class attribute using property decorators\n",
    "\"\"\"Setter methods allow a user to modify or update the value of private variable without actually accessing the variable Hence encapsulation is possible\"\"\"\n",
    "class A:\n",
    "    def __init__(self,x):\n",
    "        self.__x = x\n",
    "    \n",
    "    @property\n",
    "    def obj(self): #getter\n",
    "        print(self.__x)\n",
    "    \n",
    "    @obj.setter #setter\n",
    "    def set_obj(self,k):\n",
    "        self.__x = k\n",
    "        \n",
    "a = A(5)\n",
    "# print(a.__x) >> ERROR\n",
    "a.obj\n",
    "a.set_obj = 10\n",
    "a.obj"
   ]
  },
  {
   "cell_type": "code",
   "execution_count": 86,
   "metadata": {},
   "outputs": [
    {
     "name": "stdout",
     "output_type": "stream",
     "text": [
      "3\n"
     ]
    }
   ],
   "source": [
    "#69. What is the purpose of the @property decorator in Python? Provide an example illustrating its usage\n",
    "\"\"\"Property Decoraters are used to call a method as attributes it can be used to achieve data abstraction\"\"\"\n",
    "class A:\n",
    "    def __init__(self,x,y):\n",
    "        self.__x = x\n",
    "        self.__y = y\n",
    "    @property\n",
    "    def add(self): \n",
    "        print(self.__x+self.__y)\n",
    "        \n",
    "a = A(1,2)\n",
    "a.add"
   ]
  },
  {
   "cell_type": "code",
   "execution_count": 88,
   "metadata": {},
   "outputs": [
    {
     "name": "stdout",
     "output_type": "stream",
     "text": [
      "5\n"
     ]
    }
   ],
   "source": [
    "#70.Explain the use of the @deleter decorator in Python property decorators. Provide a code example demonstrating its application\n",
    "\"\"\"The purpose of deleter is to delete an object after its use which is crucial part of memory management\"\"\"\n",
    "class A:\n",
    "    def __init__(self,x):\n",
    "        self.__x = x\n",
    "    \n",
    "    @property\n",
    "    def obj(self): #getter\n",
    "        print(self.__x)\n",
    "    @obj.deleter #Deleter\n",
    "    def obj(self):\n",
    "        del self.__x\n",
    "        \n",
    "a = A(5)\n",
    "a.obj\n",
    "del a.obj\n",
    "#a.obj -> ERROR"
   ]
  },
  {
   "cell_type": "code",
   "execution_count": 90,
   "metadata": {},
   "outputs": [
    {
     "name": "stdout",
     "output_type": "stream",
     "text": [
      "0\n",
      "100000\n",
      "75000\n"
     ]
    }
   ],
   "source": [
    "#71.How does encapsulation relate to property decorators in Python? Provide an example showcasing encapsulation using property decorators.\n",
    "\"\"\"Encapsulation can be used to keep the private data hidden property decoraters can enable user to access, use and modify data without knowing the encapsulated class\"\"\"\n",
    "class Bank:\n",
    "    def __init__(self,bal):\n",
    "        self.__bal = bal\n",
    "    \n",
    "    @property\n",
    "    def balance(self):\n",
    "        print(self.__bal)\n",
    "    @balance.setter\n",
    "    def deposit(self,val):\n",
    "        self.__bal = self.__bal+val\n",
    "    @balance.setter\n",
    "    def withdraw(self,val):\n",
    "        if(val>self.__bal):\n",
    "            print(\"Insufficient Balance\")\n",
    "        else:\n",
    "            self.__bal = self.__bal-val\n",
    "        \n",
    "acc1 = Bank(0)\n",
    "acc1.balance\n",
    "acc1.deposit = 100000\n",
    "acc1.balance\n",
    "acc1.withdraw = 25000\n",
    "acc1.balance\n"
   ]
  }
 ],
 "metadata": {
  "kernelspec": {
   "display_name": "Python 3",
   "language": "python",
   "name": "python3"
  },
  "language_info": {
   "codemirror_mode": {
    "name": "ipython",
    "version": 3
   },
   "file_extension": ".py",
   "mimetype": "text/x-python",
   "name": "python",
   "nbconvert_exporter": "python",
   "pygments_lexer": "ipython3",
   "version": "3.12.2"
  }
 },
 "nbformat": 4,
 "nbformat_minor": 2
}
